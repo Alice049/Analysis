{
  "nbformat": 4,
  "nbformat_minor": 0,
  "metadata": {
    "colab": {
      "provenance": [],
      "authorship_tag": "ABX9TyMeZ3I2/AlOCqhDvbIBRlbU",
      "include_colab_link": true
    },
    "kernelspec": {
      "name": "python3",
      "display_name": "Python 3"
    },
    "language_info": {
      "name": "python"
    }
  },
  "cells": [
    {
      "cell_type": "markdown",
      "metadata": {
        "id": "view-in-github",
        "colab_type": "text"
      },
      "source": [
        "<a href=\"https://colab.research.google.com/github/Alice049/linearRegressionGD/blob/main/Anova%E8%AE%8A%E7%95%B0%E6%95%B8%E5%96%AE%E5%90%91%E5%88%86%E6%9E%90.ipynb\" target=\"_parent\"><img src=\"https://colab.research.google.com/assets/colab-badge.svg\" alt=\"Open In Colab\"/></a>"
      ]
    },
    {
      "cell_type": "markdown",
      "source": [
        "變異數單向分析可以以比較二或多群的平均數,他與t檢定關係密切,關於兩群的特例來說,結論和t檢定完全相同。\n",
        "Anova中的虛無假說常說被稱為綜合假說,Anova本身以一個綜合檢定。通常被簡單陳述為“不是H0“的對立假說母體平均數有時候是不同的,也就說自平均數的母體中所選出的樣本至少有一個不同於其他的.\n"
      ],
      "metadata": {
        "id": "kfEznYqd2Rk3"
      }
    },
    {
      "cell_type": "code",
      "execution_count": null,
      "metadata": {
        "colab": {
          "base_uri": "https://localhost:8080/"
        },
        "id": "5jlQnEEk1zpE",
        "outputId": "b6de1c45-f91e-46f2-d2fc-aa4f32cd80bf"
      },
      "outputs": [
        {
          "output_type": "stream",
          "name": "stdout",
          "text": [
            "F-Statistic:3.33\n",
            "P-Value:0.05\n"
          ]
        }
      ],
      "source": [
        "from scipy.stats import f_oneway\n",
        "\n",
        "group1=[1,2,3,4,5]\n",
        "group2=[2,3,4,5,6]\n",
        "group3=[3,4,5,6,7]\n",
        "group4=[4,5,6,7,8]\n",
        "\n",
        "f_statistic,p_value=f_oneway(group1,group2,group3,group4)\n",
        "\n",
        "print(\"F-Statistic:{:.2f}\".format(f_statistic))\n",
        "print(\"P-Value:{:.2f}\".format(p_value))"
      ]
    }
  ]
}