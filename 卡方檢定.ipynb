{
  "nbformat": 4,
  "nbformat_minor": 0,
  "metadata": {
    "colab": {
      "provenance": [],
      "authorship_tag": "ABX9TyPtjSbf+DMrhmNx0xqFAjkP",
      "include_colab_link": true
    },
    "kernelspec": {
      "name": "python3",
      "display_name": "Python 3"
    },
    "language_info": {
      "name": "python"
    }
  },
  "cells": [
    {
      "cell_type": "markdown",
      "metadata": {
        "id": "view-in-github",
        "colab_type": "text"
      },
      "source": [
        "<a href=\"https://colab.research.google.com/github/Alice049/linearRegressionGD/blob/main/%E5%8D%A1%E6%96%B9%E6%AA%A2%E5%AE%9A.ipynb\" target=\"_parent\"><img src=\"https://colab.research.google.com/assets/colab-badge.svg\" alt=\"Open In Colab\"/></a>"
      ]
    },
    {
      "cell_type": "markdown",
      "source": [
        "chisquare()函式為卡方檢定執行的方法之一，\n",
        "chisquare()用於配適度檢定，輸入的值為單因子列聯表。假設一名遺傳學家，相信某種植物種植方式可以顯示出四種特性的比例為9:3:3:1\n",
        "為了檢驗假說中的實驗，遺傳學家將比率轉換成期望比率。若遺傳學家將這些比率已指定的方式摘種\n",
        "並獲得256株樣本,則期望次數分別為144,48,48跟16\n",
        "\n",
        "假定觀察實驗室裡的成功的培育植株為130,55,50,21\n",
        "而預期實驗室裡的培育的值株期望次數為144,48,48,16\n",
        "我們得到以下的Power_divergenceResult\n",
        "statistic=4.027777777777779, pvalue=0.2584802120113531\n"
      ],
      "metadata": {
        "id": "7fGhUgYtKbw7"
      }
    },
    {
      "cell_type": "code",
      "execution_count": 15,
      "metadata": {
        "colab": {
          "base_uri": "https://localhost:8080/"
        },
        "id": "wHQFm7IOJPkh",
        "outputId": "122f125e-ad52-4f0b-ba86-58b378c3a8e6"
      },
      "outputs": [
        {
          "output_type": "execute_result",
          "data": {
            "text/plain": [
              "Power_divergenceResult(statistic=4.027777777777779, pvalue=0.2584802120113531)"
            ]
          },
          "metadata": {},
          "execution_count": 15
        }
      ],
      "source": [
        "import numpy as np\n",
        "from scipy import stats\n",
        "stats.chisquare(\n",
        "    f_obs=np.array([130,55,50,21]),\n",
        "    f_exp=np.array([144,48,48,16])\n",
        ")\n",
        "\n",
        "#Power_divergenceResult(statistic=4.027777777777779, pvalue=0.2584802120113531)"
      ]
    },
    {
      "cell_type": "markdown",
      "source": [
        "同值性分析與獨立檢定都使用stats.chi2_contingency()\n",
        "資料使用的雙因子列聯表。\n",
        "資料如下：\n",
        "有40人自願加入態度改變的一項實驗。\n",
        "看某電影時他們進行了態度測試，並在看完後再進行一次態度測試。\n",
        "看電影之前\n",
        "對於電影認同的人次為8人，未決定為20人，相反態度12人\n",
        "看完之後\n",
        "對於電影的態度\n",
        "對於電影認同的人次為18人，未決定為12人，相反態度10人\n",
        "透過卡方得到\n",
        "Chi2ContingencyResult\n",
        "statistic=6.027972027972028, pvalue=0.049095592500439475, dof=2, expected_freq=array([[13., 16., 11.],\n",
        "       [13., 16., 11.]]))\n",
        "\n",
        "由於p值小於0.05,\n",
        "顯示在同值性檢定的角度，我們傾向會做出『看電影之前與之後態度不相同』的結論，而在獨立性檢定的角度，會傾向『看電影前後態度存在關聯』的結論。\n"
      ],
      "metadata": {
        "id": "w6BLY4M9QAW2"
      }
    },
    {
      "cell_type": "code",
      "source": [
        "from scipy.stats.contingency import Chi2ContingencyResult\n",
        "import numpy as np\n",
        "from scipy import stats\n",
        "stats.chi2_contingency(\n",
        "    observed=np.array([\n",
        "        [8,20,12],\n",
        "        [18,12,10]\n",
        "    ])\n",
        ")"
      ],
      "metadata": {
        "colab": {
          "base_uri": "https://localhost:8080/"
        },
        "id": "09m4yPjCK492",
        "outputId": "c56e1b7e-a075-4487-abb5-231a9300d251"
      },
      "execution_count": 17,
      "outputs": [
        {
          "output_type": "execute_result",
          "data": {
            "text/plain": [
              "Chi2ContingencyResult(statistic=6.027972027972028, pvalue=0.049095592500439475, dof=2, expected_freq=array([[13., 16., 11.],\n",
              "       [13., 16., 11.]]))"
            ]
          },
          "metadata": {},
          "execution_count": 17
        }
      ]
    }
  ]
}