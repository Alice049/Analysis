{
  "nbformat": 4,
  "nbformat_minor": 0,
  "metadata": {
    "colab": {
      "provenance": [],
      "authorship_tag": "ABX9TyOtmFU7AOQqhzNq9zVS5kgi",
      "include_colab_link": true
    },
    "kernelspec": {
      "name": "ir",
      "display_name": "R"
    },
    "language_info": {
      "name": "R"
    }
  },
  "cells": [
    {
      "cell_type": "markdown",
      "metadata": {
        "id": "view-in-github",
        "colab_type": "text"
      },
      "source": [
        "<a href=\"https://colab.research.google.com/github/Alice049/linearRegressionGD/blob/main/Onehotencoding%E7%8D%A8%E7%86%B1%E7%B7%A8%E7%A2%BC.ipynb\" target=\"_parent\"><img src=\"https://colab.research.google.com/assets/colab-badge.svg\" alt=\"Open In Colab\"/></a>"
      ]
    },
    {
      "cell_type": "markdown",
      "source": [
        "# 獨熱編碼\n",
        "onehot encoder\n",
        "將原本單一類別變數編碼成多個互相獨立的二元類別變數。\n",
        "Ｒ語言中以套件{vcd}的關節炎資料框，\n",
        "利用讀熱編碼套件{onehot}先建立模型物件encoder\n",
        "其類別值為onehot\n",
        "再以predict()泛型函數對\"Treatment\"與\"Sex\"欄位編碼\n",
        "最後再與未做獨熱編碼的三個欄位整合為資料框arthritisOh\n",
        "\n"
      ],
      "metadata": {
        "id": "Ul-Bx0IRbC-w"
      }
    },
    {
      "cell_type": "code",
      "source": [
        "#載入套件\n",
        "install.packages(\"onehot\")"
      ],
      "metadata": {
        "colab": {
          "base_uri": "https://localhost:8080/"
        },
        "id": "x8rG9A5SY25p",
        "outputId": "9cd72ec2-d9e2-40a9-f70b-c0376fa55a96"
      },
      "execution_count": 1,
      "outputs": [
        {
          "output_type": "stream",
          "name": "stderr",
          "text": [
            "Installing package into ‘/usr/local/lib/R/site-library’\n",
            "(as ‘lib’ is unspecified)\n",
            "\n"
          ]
        }
      ]
    },
    {
      "cell_type": "code",
      "source": [
        "#載入套件\n",
        "install.packages(\"vcd\")"
      ],
      "metadata": {
        "colab": {
          "base_uri": "https://localhost:8080/"
        },
        "id": "omqyXFfnZeP4",
        "outputId": "e92302fa-3514-463d-c13d-36a41035d6ae"
      },
      "execution_count": 5,
      "outputs": [
        {
          "output_type": "stream",
          "name": "stderr",
          "text": [
            "Installing package into ‘/usr/local/lib/R/site-library’\n",
            "(as ‘lib’ is unspecified)\n",
            "\n",
            "also installing the dependencies ‘zoo’, ‘lmtest’\n",
            "\n",
            "\n"
          ]
        }
      ]
    },
    {
      "cell_type": "code",
      "source": [
        "library(vcd)\n",
        "data(Arthritis)"
      ],
      "metadata": {
        "colab": {
          "base_uri": "https://localhost:8080/"
        },
        "id": "1-TwJQXPZm2e",
        "outputId": "2eed24be-0761-41d2-809d-1577bb71107b"
      },
      "execution_count": 7,
      "outputs": [
        {
          "output_type": "stream",
          "name": "stderr",
          "text": [
            "Loading required package: grid\n",
            "\n"
          ]
        }
      ]
    },
    {
      "cell_type": "code",
      "source": [
        "#變數\n",
        "str(Arthritis)"
      ],
      "metadata": {
        "colab": {
          "base_uri": "https://localhost:8080/"
        },
        "id": "Ko6vOTB6Z0wf",
        "outputId": "02745aac-1293-4ef4-e9a8-92f307642e29"
      },
      "execution_count": 8,
      "outputs": [
        {
          "output_type": "stream",
          "name": "stdout",
          "text": [
            "'data.frame':\t84 obs. of  5 variables:\n",
            " $ ID       : int  57 46 77 17 36 23 75 39 33 55 ...\n",
            " $ Treatment: Factor w/ 2 levels \"Placebo\",\"Treated\": 2 2 2 2 2 2 2 2 2 2 ...\n",
            " $ Sex      : Factor w/ 2 levels \"Female\",\"Male\": 2 2 2 2 2 2 2 2 2 2 ...\n",
            " $ Age      : int  27 29 30 32 46 58 59 59 63 63 ...\n",
            " $ Improved : Ord.factor w/ 3 levels \"None\"<\"Some\"<..: 2 1 1 3 3 3 1 3 1 1 ...\n"
          ]
        }
      ]
    },
    {
      "cell_type": "code",
      "source": [
        "#因為\"Treatment\"與\"Sex\"各有兩個水準，所以為四欄矩陣\n",
        "library(onehot)\n",
        "encoder<-onehot(Arthritis[c(\"Treatment\",\"Sex\")])"
      ],
      "metadata": {
        "id": "GH3xzJKaY_Kp"
      },
      "execution_count": 9,
      "outputs": []
    },
    {
      "cell_type": "code",
      "source": [
        "#模型物件encoder類別與建模名稱相同\n",
        "class(encoder)"
      ],
      "metadata": {
        "colab": {
          "base_uri": "https://localhost:8080/",
          "height": 34
        },
        "id": "ybsEHkVLZ4no",
        "outputId": "fc3168a4-3bd8-470b-9c48-a15622486a2e"
      },
      "execution_count": 10,
      "outputs": [
        {
          "output_type": "display_data",
          "data": {
            "text/html": [
              "'onehot'"
            ],
            "text/markdown": "'onehot'",
            "text/latex": "'onehot'",
            "text/plain": [
              "[1] \"onehot\""
            ]
          },
          "metadata": {}
        }
      ]
    },
    {
      "cell_type": "code",
      "source": [
        "#預測方法predict()根據模型encoder對兩類別欄位做編碼轉換\n",
        "arthritisOh<-predict(encoder,Arthritis[c(\"Treatment\",\"Sex\")])\n",
        "Arthritis[41:45,c(\"Treatment\",\"Sex\")];arthritisOh[41:45,]"
      ],
      "metadata": {
        "colab": {
          "base_uri": "https://localhost:8080/",
          "height": 456
        },
        "id": "YalW1YcrZ9RC",
        "outputId": "e26baccd-5a83-4498-d004-ebfb53cc5e07"
      },
      "execution_count": 16,
      "outputs": [
        {
          "output_type": "display_data",
          "data": {
            "text/html": [
              "<table class=\"dataframe\">\n",
              "<caption>A data.frame: 5 × 2</caption>\n",
              "<thead>\n",
              "\t<tr><th></th><th scope=col>Treatment</th><th scope=col>Sex</th></tr>\n",
              "\t<tr><th></th><th scope=col>&lt;fct&gt;</th><th scope=col>&lt;fct&gt;</th></tr>\n",
              "</thead>\n",
              "<tbody>\n",
              "\t<tr><th scope=row>41</th><td>Treated</td><td>Female</td></tr>\n",
              "\t<tr><th scope=row>42</th><td>Placebo</td><td>Male  </td></tr>\n",
              "\t<tr><th scope=row>43</th><td>Placebo</td><td>Male  </td></tr>\n",
              "\t<tr><th scope=row>44</th><td>Placebo</td><td>Male  </td></tr>\n",
              "\t<tr><th scope=row>45</th><td>Placebo</td><td>Male  </td></tr>\n",
              "</tbody>\n",
              "</table>\n"
            ],
            "text/markdown": "\nA data.frame: 5 × 2\n\n| <!--/--> | Treatment &lt;fct&gt; | Sex &lt;fct&gt; |\n|---|---|---|\n| 41 | Treated | Female |\n| 42 | Placebo | Male   |\n| 43 | Placebo | Male   |\n| 44 | Placebo | Male   |\n| 45 | Placebo | Male   |\n\n",
            "text/latex": "A data.frame: 5 × 2\n\\begin{tabular}{r|ll}\n  & Treatment & Sex\\\\\n  & <fct> & <fct>\\\\\n\\hline\n\t41 & Treated & Female\\\\\n\t42 & Placebo & Male  \\\\\n\t43 & Placebo & Male  \\\\\n\t44 & Placebo & Male  \\\\\n\t45 & Placebo & Male  \\\\\n\\end{tabular}\n",
            "text/plain": [
              "   Treatment Sex   \n",
              "41 Treated   Female\n",
              "42 Placebo   Male  \n",
              "43 Placebo   Male  \n",
              "44 Placebo   Male  \n",
              "45 Placebo   Male  "
            ]
          },
          "metadata": {}
        },
        {
          "output_type": "display_data",
          "data": {
            "text/html": [
              "<table class=\"dataframe\">\n",
              "<caption>A matrix: 5 × 4 of type dbl</caption>\n",
              "<thead>\n",
              "\t<tr><th scope=col>Treatment=Placebo</th><th scope=col>Treatment=Treated</th><th scope=col>Sex=Female</th><th scope=col>Sex=Male</th></tr>\n",
              "</thead>\n",
              "<tbody>\n",
              "\t<tr><td>0</td><td>1</td><td>1</td><td>0</td></tr>\n",
              "\t<tr><td>1</td><td>0</td><td>0</td><td>1</td></tr>\n",
              "\t<tr><td>1</td><td>0</td><td>0</td><td>1</td></tr>\n",
              "\t<tr><td>1</td><td>0</td><td>0</td><td>1</td></tr>\n",
              "\t<tr><td>1</td><td>0</td><td>0</td><td>1</td></tr>\n",
              "</tbody>\n",
              "</table>\n"
            ],
            "text/markdown": "\nA matrix: 5 × 4 of type dbl\n\n| Treatment=Placebo | Treatment=Treated | Sex=Female | Sex=Male |\n|---|---|---|---|\n| 0 | 1 | 1 | 0 |\n| 1 | 0 | 0 | 1 |\n| 1 | 0 | 0 | 1 |\n| 1 | 0 | 0 | 1 |\n| 1 | 0 | 0 | 1 |\n\n",
            "text/latex": "A matrix: 5 × 4 of type dbl\n\\begin{tabular}{llll}\n Treatment=Placebo & Treatment=Treated & Sex=Female & Sex=Male\\\\\n\\hline\n\t 0 & 1 & 1 & 0\\\\\n\t 1 & 0 & 0 & 1\\\\\n\t 1 & 0 & 0 & 1\\\\\n\t 1 & 0 & 0 & 1\\\\\n\t 1 & 0 & 0 & 1\\\\\n\\end{tabular}\n",
            "text/plain": [
              "     Treatment=Placebo Treatment=Treated Sex=Female Sex=Male\n",
              "[1,] 0                 1                 1          0       \n",
              "[2,] 1                 0                 0          1       \n",
              "[3,] 1                 0                 0          1       \n",
              "[4,] 1                 0                 0          1       \n",
              "[5,] 1                 0                 0          1       "
            ]
          },
          "metadata": {}
        }
      ]
    },
    {
      "cell_type": "code",
      "source": [
        "#合併獨熱編碼結果\n",
        "arthritisOh<-cbind(Arthritis[c(\"ID\",\"Age\",\"Improved\")],arthritisOh)\n",
        "head(arthritisOh)"
      ],
      "metadata": {
        "colab": {
          "base_uri": "https://localhost:8080/",
          "height": 283
        },
        "id": "CED9c4ZPah_T",
        "outputId": "345806b9-de96-4db2-efdb-291125d3de28"
      },
      "execution_count": 17,
      "outputs": [
        {
          "output_type": "display_data",
          "data": {
            "text/html": [
              "<table class=\"dataframe\">\n",
              "<caption>A data.frame: 6 × 7</caption>\n",
              "<thead>\n",
              "\t<tr><th></th><th scope=col>ID</th><th scope=col>Age</th><th scope=col>Improved</th><th scope=col>Treatment=Placebo</th><th scope=col>Treatment=Treated</th><th scope=col>Sex=Female</th><th scope=col>Sex=Male</th></tr>\n",
              "\t<tr><th></th><th scope=col>&lt;int&gt;</th><th scope=col>&lt;int&gt;</th><th scope=col>&lt;ord&gt;</th><th scope=col>&lt;dbl&gt;</th><th scope=col>&lt;dbl&gt;</th><th scope=col>&lt;dbl&gt;</th><th scope=col>&lt;dbl&gt;</th></tr>\n",
              "</thead>\n",
              "<tbody>\n",
              "\t<tr><th scope=row>1</th><td>57</td><td>27</td><td>Some  </td><td>0</td><td>1</td><td>0</td><td>1</td></tr>\n",
              "\t<tr><th scope=row>2</th><td>46</td><td>29</td><td>None  </td><td>0</td><td>1</td><td>0</td><td>1</td></tr>\n",
              "\t<tr><th scope=row>3</th><td>77</td><td>30</td><td>None  </td><td>0</td><td>1</td><td>0</td><td>1</td></tr>\n",
              "\t<tr><th scope=row>4</th><td>17</td><td>32</td><td>Marked</td><td>0</td><td>1</td><td>0</td><td>1</td></tr>\n",
              "\t<tr><th scope=row>5</th><td>36</td><td>46</td><td>Marked</td><td>0</td><td>1</td><td>0</td><td>1</td></tr>\n",
              "\t<tr><th scope=row>6</th><td>23</td><td>58</td><td>Marked</td><td>0</td><td>1</td><td>0</td><td>1</td></tr>\n",
              "</tbody>\n",
              "</table>\n"
            ],
            "text/markdown": "\nA data.frame: 6 × 7\n\n| <!--/--> | ID &lt;int&gt; | Age &lt;int&gt; | Improved &lt;ord&gt; | Treatment=Placebo &lt;dbl&gt; | Treatment=Treated &lt;dbl&gt; | Sex=Female &lt;dbl&gt; | Sex=Male &lt;dbl&gt; |\n|---|---|---|---|---|---|---|---|\n| 1 | 57 | 27 | Some   | 0 | 1 | 0 | 1 |\n| 2 | 46 | 29 | None   | 0 | 1 | 0 | 1 |\n| 3 | 77 | 30 | None   | 0 | 1 | 0 | 1 |\n| 4 | 17 | 32 | Marked | 0 | 1 | 0 | 1 |\n| 5 | 36 | 46 | Marked | 0 | 1 | 0 | 1 |\n| 6 | 23 | 58 | Marked | 0 | 1 | 0 | 1 |\n\n",
            "text/latex": "A data.frame: 6 × 7\n\\begin{tabular}{r|lllllll}\n  & ID & Age & Improved & Treatment=Placebo & Treatment=Treated & Sex=Female & Sex=Male\\\\\n  & <int> & <int> & <ord> & <dbl> & <dbl> & <dbl> & <dbl>\\\\\n\\hline\n\t1 & 57 & 27 & Some   & 0 & 1 & 0 & 1\\\\\n\t2 & 46 & 29 & None   & 0 & 1 & 0 & 1\\\\\n\t3 & 77 & 30 & None   & 0 & 1 & 0 & 1\\\\\n\t4 & 17 & 32 & Marked & 0 & 1 & 0 & 1\\\\\n\t5 & 36 & 46 & Marked & 0 & 1 & 0 & 1\\\\\n\t6 & 23 & 58 & Marked & 0 & 1 & 0 & 1\\\\\n\\end{tabular}\n",
            "text/plain": [
              "  ID Age Improved Treatment=Placebo Treatment=Treated Sex=Female Sex=Male\n",
              "1 57 27  Some     0                 1                 0          1       \n",
              "2 46 29  None     0                 1                 0          1       \n",
              "3 77 30  None     0                 1                 0          1       \n",
              "4 17 32  Marked   0                 1                 0          1       \n",
              "5 36 46  Marked   0                 1                 0          1       \n",
              "6 23 58  Marked   0                 1                 0          1       "
            ]
          },
          "metadata": {}
        }
      ]
    }
  ]
}