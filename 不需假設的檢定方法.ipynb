{
  "nbformat": 4,
  "nbformat_minor": 0,
  "metadata": {
    "colab": {
      "provenance": [],
      "authorship_tag": "ABX9TyO6W7WNvY8oevFWpIzBPr6e",
      "include_colab_link": true
    },
    "kernelspec": {
      "name": "python3",
      "display_name": "Python 3"
    },
    "language_info": {
      "name": "python"
    }
  },
  "cells": [
    {
      "cell_type": "markdown",
      "metadata": {
        "id": "view-in-github",
        "colab_type": "text"
      },
      "source": [
        "<a href=\"https://colab.research.google.com/github/Alice049/linearRegressionGD/blob/main/%E4%B8%8D%E9%9C%80%E5%81%87%E8%A8%AD%E7%9A%84%E6%AA%A2%E5%AE%9A%E6%96%B9%E6%B3%95.ipynb\" target=\"_parent\"><img src=\"https://colab.research.google.com/assets/colab-badge.svg\" alt=\"Open In Colab\"/></a>"
      ]
    },
    {
      "cell_type": "markdown",
      "source": [
        "# Kruskal-Wallis檢定\n",
        "在量度為順序尺度時，我們對Ｆ檢定相關的分配產生質疑時，就可以使用Kruskal-Wallis取代Anova。\n",
        "虛無假說所識別的母體分配而非母體某個中央集中趨勢值。一般情況下，他適用於位置的檢定。\n",
        "假設我們合併K個群組並且將所有值排序，每當區分個群組時，我們可求出每個群的平均排名然後比較他們。基本邏輯就是決定個群組的平均排名差異是否大於隨機抽樣變異下所預期的。\n",
        "若樣本來自相同母體，則我們會預期個群的平均排名和群體的排名平均數相差在某個範圍。\n",
        "如果樣本來自相異母體，則預期各群平均排名的變異較大。\n",
        "Kruskal-Walls檢定分析各組平均排名和總體平均排名間的k個差異大小，將差異總值與機會下所能預期的值比較。\n",
        "\n",
        "\n",
        "假設我們有三種影印機機台，我們要研究三個機台的易讀性。\n",
        "抽樣Ａ牌6台，B牌6台，C牌5台。\n",
        "\n",
        "##假說\n",
        "\n",
        "『允許有同分狀況時，只要沒有很多同分狀況，同分對結果影響不大。』\n",
        "\n",
        "當Ho為真時，H的抽樣分配接近卡方分配。當有三群組且每組有五個或更多個案時，我們可以用卡方分配來評估。\n",
        "透過卡方得到H: 9.985620915032683\n",
        "透過Scipy.stats.kruslal得到H:10.034811165845651\n",
        "且p-value:0.006621683852965625，p值小於0.05，拒絕虛無假設Ho，接受對立假說\n",
        "\n",
        "推論\n",
        "允許有同分狀況時，否定『沒有很多同分狀況，同分對結果影響不大。』"
      ],
      "metadata": {
        "id": "IuJMwpjiJ4zr"
      }
    },
    {
      "cell_type": "code",
      "execution_count": 38,
      "metadata": {
        "colab": {
          "base_uri": "https://localhost:8080/"
        },
        "id": "Ri71ZgYMJZFf",
        "outputId": "8c4569f9-3165-4c02-ef36-ea9ebefb31e3"
      },
      "outputs": [
        {
          "output_type": "stream",
          "name": "stdout",
          "text": [
            "H: 9.985620915032683\n",
            "H:10.034811165845651\n",
            "p-value:0.006621683852965625\n"
          ]
        }
      ],
      "source": [
        "from scipy.stats import kruskal\n",
        "#三種機台的值\n",
        "#a=[22,24,21,17,26,25]\n",
        "#b=[26,36,27,37,33,32]\n",
        "#c=[23,30,29,26,31]\n",
        "#第一步將個樣本的進行總體排名\n",
        "a=[3,5,2,1,8,6]\n",
        "b=[8,16,10,17,15,14]\n",
        "c=[4,12,11,8,13]\n",
        "n=17\n",
        "#分組的排名的總和\n",
        "r1=sum(a)\n",
        "r2=sum(b)\n",
        "r3=sum(c)\n",
        "R=r1+r2+r3\n",
        "\n",
        "#卡方分配求出Ｈ值\n",
        "rr1=float(((r1)*(r1))/6)\n",
        "rr2=float(((r2)*(r2))/6)\n",
        "rr3=float(((r3)*(r3))/5)\n",
        "rr=rr1+rr2+rr3\n",
        "\n",
        "H=-3*(n+1)+rr*(12/(n*(n+1)))\n",
        "print(\"H:\",H)\n",
        "#自由度,k=3,df=k-1=2\n",
        "\n",
        "#秩和kruskal求Ｈ\n",
        "H,p_value=kruskal(a,b,c)\n",
        "\n",
        "print(f\"H:{H}\")\n",
        "print(f\"p-value:{p_value}\")"
      ]
    },
    {
      "cell_type": "markdown",
      "source": [
        "# Friedman排名檢定\n",
        "進行重複測量設計，且對母體有嚴重質疑時，可以取代Anova的另一個不需假設的檢定。再重複測量設計中至少有三種水準，且值已排名形式表示時，可以使用Friedman檢定。\n",
        "首先需要為所有條件下的每個實驗者的值進行排名，同分情況時賦予兩名平均排名。\n",
        "假設我們想知道壓力對解題能力的影響。可以實驗設計為12名要求在相同要求以下進行解題。分別在一段沒有壓力、小壓力以及中度壓力的階段。平衡樣本在這三種條件下進行解題，以確定出現的順序不會影響我們的結果。且問題以100分量表評分。\n",
        "\n",
        "# 虛無假說\n",
        "為每個條件下的來自相同的母體，若為真，則每個條件內的排名會是隨機的，且不同條件間的任何差異是由機會引起的。\n",
        "\n",
        "透過Friedman排名檢定得到Statistic值30.4665099882491，且p-value:0.001338037039857599，由於\n",
        "p值小於0.05，拒絕虛無假設Ho，接受對立假說\n",
        "\n",
        "推論：\n",
        "否定『每個條件內的排名會是隨機的，且不同條件間的任何差異是由機會引起的。』\n"
      ],
      "metadata": {
        "id": "R1HgxwG1Z_sE"
      }
    },
    {
      "cell_type": "code",
      "source": [
        "from scipy.stats import friedmanchisquare\n",
        "\n",
        "a=[63,60,50]\n",
        "b=[80,85,70]\n",
        "c=[75,60,65]\n",
        "d=[40,35,20]\n",
        "e=[60,65,50]\n",
        "f=[70,75,80]\n",
        "g=[90,95,70]\n",
        "h=[55,40,25]\n",
        "i=[85,90,75]\n",
        "j=[85,90,95]\n",
        "k=[35,30,15]\n",
        "l=[75,65,60]\n",
        "\n",
        "statistic,p_value=friedmanchisquare(a,b,c,d,e,f,g,h,i,j,k,l)\n",
        "\n",
        "print(f\"Statistic:{statistic}\")\n",
        "print(f\"p-value:{p_value}\")"
      ],
      "metadata": {
        "colab": {
          "base_uri": "https://localhost:8080/"
        },
        "id": "ns4o8cQSaWQ4",
        "outputId": "d2644038-9016-4fc1-88e5-747c2489a929"
      },
      "execution_count": 39,
      "outputs": [
        {
          "output_type": "stream",
          "name": "stdout",
          "text": [
            "Statistic:30.4665099882491\n",
            "p-value:0.001338037039857599\n"
          ]
        }
      ]
    }
  ]
}